{
 "cells": [
  {
   "cell_type": "markdown",
   "id": "de64fc75",
   "metadata": {},
   "source": [
    "# Linear Regression"
   ]
  },
  {
   "cell_type": "markdown",
   "id": "a1639fb5",
   "metadata": {},
   "source": [
    "The simplest possible relationship between two variables is a linear relationship\n",
    "\n",
    "$$y_i \\approx \\beta_0 + \\beta_1x_i$$\n",
    "\n",
    "Generally, a linear model makes a prediction by simply computing a weighted sum of input features, plus a constant called the \"bias term\" ( also called the \"intercept term\")\n",
    "\n",
    "If we can measure some $(x_i, y_i)$ pairs, we could calculate our _model parameters_ $\\beta_0$ and $\\beta_1$. Then we could predict $y$ in the future based on $x$, or even try to influence $y$ in the future by controlling $x$."
   ]
  },
  {
   "cell_type": "markdown",
   "id": "c5c414bb",
   "metadata": {},
   "source": [
    "Overall, Linear Regression model prediction:\n",
    "\n",
    "$$y = \\beta_0 + \\beta_1x_1 + \\beta_2x_2 +⋯+ \\beta_n x_n$$"
   ]
  },
  {
   "cell_type": "markdown",
   "id": "f378cf25",
   "metadata": {},
   "source": [
    "We will discuss 2 very different ways to train it:"
   ]
  },
  {
   "cell_type": "markdown",
   "id": "8673b72f",
   "metadata": {},
   "source": [
    "   - Using a direct \"closed-form\" equation that directly computes the model parameters that best fit the model to the training set\n",
    "\n",
    "   - Using an iterative optimization approach called Gradient Descent (GD) that gradually tweaks the model parameters to minimize the cost function over training set "
   ]
  },
  {
   "cell_type": "markdown",
   "id": "d6b8358e",
   "metadata": {},
   "source": [
    "Now, take a look at some data:"
   ]
  },
  {
   "cell_type": "code",
   "execution_count": 3,
   "id": "011cb4ec",
   "metadata": {},
   "outputs": [],
   "source": [
    "import numpy as np \n",
    "import pandas as pd\n",
    "import matplotlib.pyplot as plt"
   ]
  },
  {
   "cell_type": "code",
   "execution_count": 5,
   "id": "1e6fd211",
   "metadata": {},
   "outputs": [
    {
     "data": {
      "text/html": [
       "<div>\n",
       "<style scoped>\n",
       "    .dataframe tbody tr th:only-of-type {\n",
       "        vertical-align: middle;\n",
       "    }\n",
       "\n",
       "    .dataframe tbody tr th {\n",
       "        vertical-align: top;\n",
       "    }\n",
       "\n",
       "    .dataframe thead th {\n",
       "        text-align: right;\n",
       "    }\n",
       "</style>\n",
       "<table border=\"1\" class=\"dataframe\">\n",
       "  <thead>\n",
       "    <tr style=\"text-align: right;\">\n",
       "      <th></th>\n",
       "      <th>tax</th>\n",
       "      <th>income</th>\n",
       "      <th>highway</th>\n",
       "      <th>drivers</th>\n",
       "      <th>gas</th>\n",
       "    </tr>\n",
       "  </thead>\n",
       "  <tbody>\n",
       "    <tr>\n",
       "      <th>1</th>\n",
       "      <td>9.0</td>\n",
       "      <td>3571</td>\n",
       "      <td>1976</td>\n",
       "      <td>0.525</td>\n",
       "      <td>541</td>\n",
       "    </tr>\n",
       "    <tr>\n",
       "      <th>2</th>\n",
       "      <td>9.0</td>\n",
       "      <td>4092</td>\n",
       "      <td>1250</td>\n",
       "      <td>0.572</td>\n",
       "      <td>524</td>\n",
       "    </tr>\n",
       "    <tr>\n",
       "      <th>3</th>\n",
       "      <td>9.0</td>\n",
       "      <td>3865</td>\n",
       "      <td>1586</td>\n",
       "      <td>0.580</td>\n",
       "      <td>561</td>\n",
       "    </tr>\n",
       "    <tr>\n",
       "      <th>4</th>\n",
       "      <td>7.5</td>\n",
       "      <td>4870</td>\n",
       "      <td>2351</td>\n",
       "      <td>0.529</td>\n",
       "      <td>414</td>\n",
       "    </tr>\n",
       "    <tr>\n",
       "      <th>5</th>\n",
       "      <td>8.0</td>\n",
       "      <td>4399</td>\n",
       "      <td>431</td>\n",
       "      <td>0.544</td>\n",
       "      <td>410</td>\n",
       "    </tr>\n",
       "  </tbody>\n",
       "</table>\n",
       "</div>"
      ],
      "text/plain": [
       "   tax  income  highway  drivers  gas\n",
       "1  9.0    3571     1976    0.525  541\n",
       "2  9.0    4092     1250    0.572  524\n",
       "3  9.0    3865     1586    0.580  561\n",
       "4  7.5    4870     2351    0.529  414\n",
       "5  8.0    4399      431    0.544  410"
      ]
     },
     "execution_count": 5,
     "metadata": {},
     "output_type": "execute_result"
    }
   ],
   "source": [
    "gas = pd.read_csv('./ml-data/gas_consumption.csv', names=['tax', 'income', 'highway', 'drivers', 'gas'])\n",
    "gas.head()"
   ]
  },
  {
   "cell_type": "code",
   "execution_count": 12,
   "id": "4caefcc0",
   "metadata": {},
   "outputs": [
    {
     "data": {
      "text/html": [
       "<div>\n",
       "<style scoped>\n",
       "    .dataframe tbody tr th:only-of-type {\n",
       "        vertical-align: middle;\n",
       "    }\n",
       "\n",
       "    .dataframe tbody tr th {\n",
       "        vertical-align: top;\n",
       "    }\n",
       "\n",
       "    .dataframe thead th {\n",
       "        text-align: right;\n",
       "    }\n",
       "</style>\n",
       "<table border=\"1\" class=\"dataframe\">\n",
       "  <thead>\n",
       "    <tr style=\"text-align: right;\">\n",
       "      <th></th>\n",
       "      <th>tax</th>\n",
       "      <th>income</th>\n",
       "      <th>highway</th>\n",
       "      <th>drivers</th>\n",
       "      <th>gas</th>\n",
       "    </tr>\n",
       "  </thead>\n",
       "  <tbody>\n",
       "    <tr>\n",
       "      <th>tax</th>\n",
       "      <td>1.000000</td>\n",
       "      <td>0.012665</td>\n",
       "      <td>-0.522130</td>\n",
       "      <td>-0.288037</td>\n",
       "      <td>-0.451280</td>\n",
       "    </tr>\n",
       "    <tr>\n",
       "      <th>income</th>\n",
       "      <td>0.012665</td>\n",
       "      <td>1.000000</td>\n",
       "      <td>0.050163</td>\n",
       "      <td>0.157070</td>\n",
       "      <td>-0.244862</td>\n",
       "    </tr>\n",
       "    <tr>\n",
       "      <th>highway</th>\n",
       "      <td>-0.522130</td>\n",
       "      <td>0.050163</td>\n",
       "      <td>1.000000</td>\n",
       "      <td>-0.064129</td>\n",
       "      <td>0.019042</td>\n",
       "    </tr>\n",
       "    <tr>\n",
       "      <th>drivers</th>\n",
       "      <td>-0.288037</td>\n",
       "      <td>0.157070</td>\n",
       "      <td>-0.064129</td>\n",
       "      <td>1.000000</td>\n",
       "      <td>0.698965</td>\n",
       "    </tr>\n",
       "    <tr>\n",
       "      <th>gas</th>\n",
       "      <td>-0.451280</td>\n",
       "      <td>-0.244862</td>\n",
       "      <td>0.019042</td>\n",
       "      <td>0.698965</td>\n",
       "      <td>1.000000</td>\n",
       "    </tr>\n",
       "  </tbody>\n",
       "</table>\n",
       "</div>"
      ],
      "text/plain": [
       "              tax    income   highway   drivers       gas\n",
       "tax      1.000000  0.012665 -0.522130 -0.288037 -0.451280\n",
       "income   0.012665  1.000000  0.050163  0.157070 -0.244862\n",
       "highway -0.522130  0.050163  1.000000 -0.064129  0.019042\n",
       "drivers -0.288037  0.157070 -0.064129  1.000000  0.698965\n",
       "gas     -0.451280 -0.244862  0.019042  0.698965  1.000000"
      ]
     },
     "execution_count": 12,
     "metadata": {},
     "output_type": "execute_result"
    }
   ],
   "source": [
    "corr_matrix = gas.corr()\n",
    "corr_matrix"
   ]
  },
  {
   "cell_type": "code",
   "execution_count": 7,
   "id": "af1dea74",
   "metadata": {
    "scrolled": true
   },
   "outputs": [
    {
     "data": {
      "image/png": "[encoded data removed]",
      "text/plain": [
       "<Figure size 432x288 with 1 Axes>"
      ]
     },
     "metadata": {
      "needs_background": "light"
     },
     "output_type": "display_data"
    }
   ],
   "source": [
    "gas.plot(x='drivers', y='gas', kind='scatter', color='b')\n",
    "plt.xlabel('% of population driving')\n",
    "plt.ylabel('Gas consumption (millions of gallons)');"
   ]
  },
  {
   "cell_type": "markdown",
   "id": "dd900ddf",
   "metadata": {},
   "source": [
    "We could try to draw a line describing the trend in the data, but which is the best one?"
   ]
  },
  {
   "cell_type": "code",
   "execution_count": 8,
   "id": "cbcc2139",
   "metadata": {},
   "outputs": [
    {
     "data": {
      "image/png": "[encoded data removed]",
      "text/plain": [
       "<Figure size 432x288 with 1 Axes>"
      ]
     },
     "metadata": {
      "needs_background": "light"
     },
     "output_type": "display_data"
    }
   ],
   "source": [
    "gas.plot(x='drivers', y='gas', kind='scatter', color='b')\n",
    "plt.xlabel('% of population driving')\n",
    "plt.ylabel('Gas consumption (millions gallons)')\n",
    "\n",
    "plt.plot([.4, .8], [300, 1000], 'r-')\n",
    "plt.plot([.4, .8], [200, 1100], 'g-');"
   ]
  },
  {
   "cell_type": "markdown",
   "id": "0b8cf678",
   "metadata": {},
   "source": [
    "In order to compare the different trend lines we need to define a **metric** for how well they describe the actual data. The metric should reflect what we value about our trend line. We want our trend line to reliably predict a y-value given an x-value, so it would be reasonable to construct our metric based on the **error** between the trend line and the y-values.\n",
    "\n",
    "$$ e_i = y_i - (\\beta_0 + \\beta_1x_i) $$\n",
    "\n",
    "We want to make the total error as small as possible. Since sometimes the errors will be positive and some will be negative, if we add them together they might cancel out. We don't care if the error is positive or negative, we want the _absolute value_ to be small. Instead of minimizing the total error, we'll minimize the total squared error. Often we divide it by the number of data points, $n$, which is called the **mean squared error** (MSE).\n",
    "\n",
    "$$ MSE = \\frac{1}{n}\\sum_i e_i^2 $$\n",
    "\n",
    "Since $e_i$ depends on our model parameters $\\beta_0$ and $\\beta_1$, we can tweak our model (the trend line) until the MSE is minimized. In the language of machine learning, the MSE would be called the **cost function** or **loss function**. For different machine learning tasks, we will define different cost functions (or **objective functions/utility functions**, which we seek to maximize instead of minimize)."
   ]
  },
  {
   "cell_type": "code",
   "execution_count": 9,
   "id": "516dff56",
   "metadata": {},
   "outputs": [
    {
     "name": "stdout",
     "output_type": "stream",
     "text": [
      "(50, 1)\n"
     ]
    },
    {
     "data": {
      "image/png": "[encoded data removed]",
      "text/plain": [
       "<Figure size 432x288 with 1 Axes>"
      ]
     },
     "metadata": {
      "needs_background": "light"
     },
     "output_type": "display_data"
    }
   ],
   "source": [
    "from sklearn.linear_model import LinearRegression\n",
    "linreg = LinearRegression(fit_intercept=True)\n",
    "linreg.fit(gas[['drivers']], gas['gas'])\n",
    "\n",
    "gas.plot(x='drivers', y='gas', kind='scatter', color='b')\n",
    "plt.xlabel('% of population driving')\n",
    "plt.ylabel('Gas consumption (millions gallons)')\n",
    "\n",
    "x = np.linspace(.4, .8).reshape(-1, 1)\n",
    "print(x.shape)\n",
    "plt.plot(x, linreg.predict(x), 'k-')\n",
    "plt.plot([.4, .8], [300, 1000], 'r-')\n",
    "plt.plot([.4, .8], [200, 1100], 'g-');"
   ]
  },
  {
   "cell_type": "code",
   "execution_count": 10,
   "id": "18d5a37e",
   "metadata": {},
   "outputs": [
    {
     "data": {
      "text/plain": [
       "(-227.3091174945256, 1409.8421113288002)"
      ]
     },
     "execution_count": 10,
     "metadata": {},
     "output_type": "execute_result"
    }
   ],
   "source": [
    "(linreg.intercept_, linreg.coef_[0])"
   ]
  }
 ],
 "metadata": {
  "kernelspec": {
   "display_name": "Python 3",
   "language": "python",
   "name": "python3"
  },
  "language_info": {
   "codemirror_mode": {
    "name": "ipython",
    "version": 3
   },
   "file_extension": ".py",
   "mimetype": "text/x-python",
   "name": "python",
   "nbconvert_exporter": "python",
   "pygments_lexer": "ipython3",
   "version": "3.8.8"
  }
 },
 "nbformat": 4,
 "nbformat_minor": 5
}
