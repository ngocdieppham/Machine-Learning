{
 "cells": [
  {
   "cell_type": "markdown",
   "id": "0fb46ac5",
   "metadata": {},
   "source": [
    "# Polynominal Regression"
   ]
  },
  {
   "cell_type": "markdown",
   "id": "77c9074d",
   "metadata": {},
   "source": [
    "We can use a linear model to fit nonlinear data, if our data is more complex than a straight line. A simple way to do this is to add powers of each feature as new features, then train a linear model on this extended set of features. This technique is called \"Polynominal Regression\""
   ]
  },
  {
   "cell_type": "markdown",
   "id": "c159e04f",
   "metadata": {},
   "source": [
    "Let's look at an example. First, let's generate some nonlinear data, based on a simple \"quadratic equation\", plus some noise"
   ]
  },
  {
   "cell_type": "code",
   "execution_count": 73,
   "id": "0a1692c5",
   "metadata": {},
   "outputs": [],
   "source": [
    "import numpy as np\n",
    "import matplotlib.pyplot as plt\n",
    "m =100\n",
    "X = 6 * np.random.rand(m, 1) -3\n",
    "y = 0.5 * X**2 + X + 2 + np.random.randn(m, 1)"
   ]
  },
  {
   "cell_type": "code",
   "execution_count": 74,
   "id": "6bed72b6",
   "metadata": {},
   "outputs": [
    {
     "data": {
      "image/png": "[encoded data removed]",
      "text/plain": [
       "<Figure size 432x288 with 1 Axes>"
      ]
     },
     "metadata": {
      "needs_background": "light"
     },
     "output_type": "display_data"
    }
   ],
   "source": [
    "plt.plot(X,y,'bo')\n",
    "plt.xlabel('X')\n",
    "plt.ylabel('y')\n",
    "plt.show()"
   ]
  },
  {
   "cell_type": "markdown",
   "id": "a3430695",
   "metadata": {},
   "source": [
    "Clearly, a traight line will never fit this data properly. So let's use Scikit-Learn's PolynominalFeatures class to transform our training data, adding the square (second-degree polynominal) of each feature in the training set as a new feature"
   ]
  },
  {
   "cell_type": "code",
   "execution_count": 75,
   "id": "3b33d70b",
   "metadata": {},
   "outputs": [],
   "source": [
    "from sklearn.preprocessing import PolynomialFeatures\n",
    "poly_features = PolynomialFeatures(degree=2, include_bias = False)\n",
    "X_poly = poly_features.fit_transform(X)"
   ]
  },
  {
   "cell_type": "code",
   "execution_count": 76,
   "id": "a550d32b",
   "metadata": {},
   "outputs": [
    {
     "data": {
      "text/plain": [
       "array([-0.24584131])"
      ]
     },
     "execution_count": 76,
     "metadata": {},
     "output_type": "execute_result"
    }
   ],
   "source": [
    "X[0]"
   ]
  },
  {
   "cell_type": "code",
   "execution_count": 77,
   "id": "f28ec987",
   "metadata": {},
   "outputs": [
    {
     "data": {
      "text/plain": [
       "array([-0.24584131,  0.06043795])"
      ]
     },
     "execution_count": 77,
     "metadata": {},
     "output_type": "execute_result"
    }
   ],
   "source": [
    "X_poly[0]"
   ]
  },
  {
   "cell_type": "markdown",
   "id": "5e6de520",
   "metadata": {},
   "source": [
    "X_poly now contains the original feature of X plus the square of this feature. Now, we can fit a LinearRegression model to this extended training data"
   ]
  },
  {
   "cell_type": "code",
   "execution_count": 78,
   "id": "5848069b",
   "metadata": {},
   "outputs": [
    {
     "data": {
      "text/plain": [
       "LinearRegression()"
      ]
     },
     "execution_count": 78,
     "metadata": {},
     "output_type": "execute_result"
    }
   ],
   "source": [
    "from sklearn.linear_model import LinearRegression\n",
    "lin_reg = LinearRegression()\n",
    "lin_reg.fit(X_poly, y)"
   ]
  },
  {
   "cell_type": "code",
   "execution_count": 79,
   "id": "02aaf464",
   "metadata": {},
   "outputs": [
    {
     "data": {
      "text/plain": [
       "array([2.0392224])"
      ]
     },
     "execution_count": 79,
     "metadata": {},
     "output_type": "execute_result"
    }
   ],
   "source": [
    "lin_reg.intercept_"
   ]
  },
  {
   "cell_type": "code",
   "execution_count": 80,
   "id": "fd506a80",
   "metadata": {},
   "outputs": [
    {
     "data": {
      "text/plain": [
       "array([[0.9120376 , 0.47555185]])"
      ]
     },
     "execution_count": 80,
     "metadata": {},
     "output_type": "execute_result"
    }
   ],
   "source": [
    "lin_reg.coef_"
   ]
  },
  {
   "cell_type": "markdown",
   "id": "1842f426",
   "metadata": {},
   "source": [
    "We have function:"
   ]
  },
  {
   "cell_type": "code",
   "execution_count": null,
   "id": "365feae5",
   "metadata": {},
   "outputs": [],
   "source": [
    "y^ = 0.48x^2 + 0.91x + 2.04"
   ]
  },
  {
   "cell_type": "markdown",
   "id": "5a64d5dc",
   "metadata": {},
   "source": [
    "When there are multiple features, Polynominal Regression is capable of finding relationships between features. This is made posible by the fact that PolynominalFeatures also adds all combinations of features up to the given degree. For example, if there were 2 features a and b, PolynominalFeatures with degree=3 would add a^2, a^3, b^2, b^3 and ab, (a^2)b, a(b^2)"
   ]
  },
  {
   "cell_type": "code",
   "execution_count": null,
   "id": "a7063328",
   "metadata": {},
   "outputs": [],
   "source": []
  }
 ],
 "metadata": {
  "kernelspec": {
   "display_name": "Python 3",
   "language": "python",
   "name": "python3"
  },
  "language_info": {
   "codemirror_mode": {
    "name": "ipython",
    "version": 3
   },
   "file_extension": ".py",
   "mimetype": "text/x-python",
   "name": "python",
   "nbconvert_exporter": "python",
   "pygments_lexer": "ipython3",
   "version": "3.8.8"
  }
 },
 "nbformat": 4,
 "nbformat_minor": 5
}
