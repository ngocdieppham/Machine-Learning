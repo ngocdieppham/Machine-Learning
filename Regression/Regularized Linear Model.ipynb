{
 "cells": [
  {
   "cell_type": "markdown",
   "metadata": {
    "id": "ZdlWguNyZFYN"
   },
   "source": [
    "# Ridge Regression\n",
    "\n",
    "Also called Tikhonov regularization, is a regularized version of Linear Regression with a \"regularization term\" is added to the cost function. This forces the learning algorithm to not only fit the data but also keep the model weights as small as possible. Note that the regularization term should only be added to the cost function during training"
   ]
  },
  {
   "cell_type": "markdown",
   "metadata": {
    "id": "eoi2ySBmYe-W"
   },
   "source": [
    "First, let's generate some nonlinear data, based on a simple quadratic equation"
   ]
  },
  {
   "cell_type": "code",
   "execution_count": 1,
   "metadata": {
    "id": "4vIUkXp3X7Ht"
   },
   "outputs": [],
   "source": [
    "import numpy as np\n",
    "\n",
    "m = 100\n",
    "X = 6 * np.random.rand(m,1) - 3\n",
    "y = 0.5 * X**2 + X +2 + np.random.randn(m,1)"
   ]
  },
  {
   "cell_type": "code",
   "execution_count": 2,
   "metadata": {
    "colab": {
     "base_uri": "https://localhost:8080/",
     "height": 75
    },
    "executionInfo": {
     "elapsed": 1625,
     "status": "ok",
     "timestamp": 1697793636627,
     "user": {
      "displayName": "điệp phạm",
      "userId": "17907400285807461038"
     },
     "user_tz": -420
    },
    "id": "GmXa64ySRgq8",
    "outputId": "b79aa6f5-0a1b-402d-f3ce-1d52594ed13a"
   },
   "outputs": [
    {
     "data": {
      "text/plain": [
       "Ridge(alpha=1, solver='cholesky')"
      ]
     },
     "execution_count": 2,
     "metadata": {},
     "output_type": "execute_result"
    }
   ],
   "source": [
    "from sklearn.linear_model import Ridge\n",
    "\n",
    "ridge_reg = Ridge(alpha=1, solver=\"cholesky\")\n",
    "ridge_reg.fit(X,y)"
   ]
  },
  {
   "cell_type": "code",
   "execution_count": 3,
   "metadata": {
    "colab": {
     "base_uri": "https://localhost:8080/"
    },
    "executionInfo": {
     "elapsed": 321,
     "status": "ok",
     "timestamp": 1697793675190,
     "user": {
      "displayName": "điệp phạm",
      "userId": "17907400285807461038"
     },
     "user_tz": -420
    },
    "id": "rGG8vcX9Xipt",
    "outputId": "4283a064-1ffd-44f9-b0a4-aaa9b3bc9ad9"
   },
   "outputs": [
    {
     "data": {
      "text/plain": [
       "array([[5.22135626]])"
      ]
     },
     "execution_count": 3,
     "metadata": {},
     "output_type": "execute_result"
    }
   ],
   "source": [
    "ridge_reg.predict([[1.5]])"
   ]
  },
  {
   "cell_type": "markdown",
   "metadata": {
    "id": "iDGpUTtuZJUT"
   },
   "source": [
    "# Lasso Regression"
   ]
  },
  {
   "cell_type": "markdown",
   "metadata": {
    "id": "2zsMyAEsZOAT"
   },
   "source": [
    "Or called Least Absolute Shrinkage and Selection Operator Regression is another regularized version of Linear Regression: it adds a regularization term to the cost function"
   ]
  },
  {
   "cell_type": "code",
   "execution_count": 4,
   "metadata": {
    "colab": {
     "base_uri": "https://localhost:8080/"
    },
    "executionInfo": {
     "elapsed": 320,
     "status": "ok",
     "timestamp": 1697794073149,
     "user": {
      "displayName": "điệp phạm",
      "userId": "17907400285807461038"
     },
     "user_tz": -420
    },
    "id": "CiYWzYinaKzd",
    "outputId": "ade3e593-5f44-4b4a-9581-19be03e7b468"
   },
   "outputs": [
    {
     "data": {
      "text/plain": [
       "array([5.17778265])"
      ]
     },
     "execution_count": 4,
     "metadata": {},
     "output_type": "execute_result"
    }
   ],
   "source": [
    "from sklearn.linear_model import Lasso\n",
    "\n",
    "lasso_reg = Lasso(alpha=0.1)\n",
    "lasso_reg.fit(X,y)\n",
    "lasso_reg.predict([[1.5]])"
   ]
  },
  {
   "cell_type": "code",
   "execution_count": null,
   "metadata": {
    "id": "85Qy4gsiaZ00"
   },
   "outputs": [],
   "source": []
  }
 ],
 "metadata": {
  "colab": {
   "authorship_tag": "ABX9TyNrdjO6ho/yIITRdBXnilhI",
   "provenance": []
  },
  "kernelspec": {
   "display_name": "Python 3",
   "language": "python",
   "name": "python3"
  },
  "language_info": {
   "codemirror_mode": {
    "name": "ipython",
    "version": 3
   },
   "file_extension": ".py",
   "mimetype": "text/x-python",
   "name": "python",
   "nbconvert_exporter": "python",
   "pygments_lexer": "ipython3",
   "version": "3.8.8"
  }
 },
 "nbformat": 4,
 "nbformat_minor": 1
}
