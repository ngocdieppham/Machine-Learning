{
 "cells": [
  {
   "cell_type": "markdown",
   "id": "0251189e",
   "metadata": {},
   "source": [
    "If we perform high-degree Polynomial Regression, we will likely fit the training data much better than with plain Linear Regression.\n",
    "\n",
    "But in general we won't know what function generated the data, so how can you decide how complex your model should be? How can you tell that your model is overfitting or underfitting the data?\n",
    "\n",
    "One way to tell when a model is too simple or too complex: use \"cross-validation metric\" to get an estimate of a model's generalization performance"
   ]
  },
  {
   "cell_type": "markdown",
   "id": "11a4be5b",
   "metadata": {},
   "source": [
    "## Overfitting\n",
    "\n",
    "If a model performs well on the training data but generalizes poorly according to the cross-validation metrics, then the model is overfitting. \n",
    "\n",
    "\n",
    "Overfitting happens when the model is too complex relative to the amount and noisiness of the training data. Solution:\n",
    "\n",
    "    - Simplify the model: by selecting one with fewer parameter (linear model) by reducing the number of atrributes in the training data or by constraining the model\n",
    "    - Gather more training data\n",
    "    - Reduce the noise in the training data (e.g., fix data errors and remove outliers)"
   ]
  },
  {
   "cell_type": "markdown",
   "id": "b1289aa5",
   "metadata": {},
   "source": [
    "## Underfitting\n",
    "\n",
    "If it performs poorly on both, then it is underfitting.\n",
    "\n",
    "It occurs when your model is too simple to learn the underlying structure of the data.\n",
    "\n",
    "Solution:\n",
    "\n",
    "    - Select a more powerful model, with more parameters\n",
    "    - Feed better features to the learning algorithm (feature engineering)\n",
    "    - Reduce the constraints on the model (e.g., reduce the regularization hyperparameter)"
   ]
  },
  {
   "cell_type": "markdown",
   "id": "c9d18ed1",
   "metadata": {},
   "source": [
    "## Learning Curve\n",
    "\n",
    "Another way to tell is to look at the \"Learing Curve\". These are plots of the model's performance on the training set and the validation set as a function of the training set size (or training iteration). To generate the plots, train the model several times on different sized subsets of the training data. \n",
    "\n",
    "The following code defines a function that, given some training data, plot the learning curve of a model:"
   ]
  },
  {
   "cell_type": "code",
   "execution_count": 1,
   "id": "56dbd8ae",
   "metadata": {},
   "outputs": [],
   "source": [
    "from sklearn.metrics import mean_squared_error \n",
    "from sklearn.model_selection import train_test_split\n",
    "import numpy as np\n",
    "import matplotlib.pyplot as plt\n",
    "\n",
    "m = 100\n",
    "X = 6 * np.random.rand(m, 1) -3\n",
    "y = 0.5 * X**2 + X + 2 + np.random.rand(m, 1)\n",
    "\n",
    "def plot_learning_curves(model, X, y):\n",
    "    X_train, X_val, y_train, y_val = train_test_split(X, y, test_size=0.2)\n",
    "    train_errors, val_errors = [], []\n",
    "    for m in range(1, len(X_train)):\n",
    "        model.fit(X_train[:m], y_train[:m])\n",
    "        y_train_predict = model.predict(X_train[:m])\n",
    "        y_val_predict = model.predict(X_val)\n",
    "        train_errors.append(mean_squared_error(y_train_predict,y_train[:m]))\n",
    "        val_errors.append(mean_squared_error(y_val_predict, y_val))\n",
    "    plt.plot(np.sqrt(train_errors), 'r-+', linewidth=2, label=\"train\")\n",
    "    plt.plot(np.sqrt(val_errors), 'b-', linewidth=3, label=\"val\")\n"
   ]
  },
  {
   "cell_type": "markdown",
   "id": "3071649a",
   "metadata": {},
   "source": [
    "Let's look at the learning curve of the plain Linear Regression model"
   ]
  },
  {
   "cell_type": "code",
   "execution_count": 9,
   "id": "a57b0cd6",
   "metadata": {},
   "outputs": [
    {
     "data": {
      "image/png": "[encoded data removed]",
      "text/plain": [
       "<Figure size 432x288 with 1 Axes>"
      ]
     },
     "metadata": {
      "needs_background": "light"
     },
     "output_type": "display_data"
    }
   ],
   "source": [
    "from sklearn.linear_model import LinearRegression\n",
    "\n",
    "lin_reg = LinearRegression()\n",
    "plot_learning_curves(lin_reg, X, y)"
   ]
  },
  {
   "cell_type": "markdown",
   "id": "82f159c2",
   "metadata": {},
   "source": [
    "First, let's look at the performance on the training data: when there are just one or two instances in the training set, the model can fit them perfectly, which is why the curve starts at zero. But as new instances are added to the training set, it becomes impossible for the model to fit the training data perfectly, both because the data is noisy and because it is not linear at all. So the error on the training data goes up until it reaches a plateau, at which point adding new instances to the training set doesn't make the average error much better or worse.\n",
    "\n",
    "Next, let's look at the performance of the model on the validation data. When the model is trained on very few training instances, it is incapable of generalizing properly, which is why validation error is initially quite big. Then, as the model is shown more training examples, it learns, and thus the validation error slowly goes down. However, once again a straight line cannot do a good job modeling data, so the error ends up at a plateau, very close to the other curve.\n",
    "\n",
    "These learning curves are typical of a model that's underfitting. Both curves have reached a plateau, they are close and fairly high"
   ]
  },
  {
   "cell_type": "code",
   "execution_count": null,
   "id": "691dd588",
   "metadata": {},
   "outputs": [],
   "source": [
    "'''\n",
    "from sklearn.linear_model import LinearRegression\n",
    "from sklearn.pipeline import Pipeline\n",
    "from sklearn.preprocessing import PolynomialFeatures\n",
    "\n",
    "poly_reg = Pipeline([\n",
    "    ('poly_feature', PolynomialFeatures(degree=10, include_bias=False)),\n",
    "    ('lin_reg', LinearRegression())\n",
    "])\n",
    "\n",
    "plot_learning_curves(poly_reg, X, y)\n",
    "'''"
   ]
  }
 ],
 "metadata": {
  "kernelspec": {
   "display_name": "Python 3",
   "language": "python",
   "name": "python3"
  },
  "language_info": {
   "codemirror_mode": {
    "name": "ipython",
    "version": 3
   },
   "file_extension": ".py",
   "mimetype": "text/x-python",
   "name": "python",
   "nbconvert_exporter": "python",
   "pygments_lexer": "ipython3",
   "version": "3.8.8"
  }
 },
 "nbformat": 4,
 "nbformat_minor": 5
}
