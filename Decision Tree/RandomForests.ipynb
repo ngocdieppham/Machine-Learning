{
 "cells": [
  {
   "cell_type": "markdown",
   "metadata": {},
   "source": [
    "# Random Forests"
   ]
  },
  {
   "cell_type": "markdown",
   "metadata": {
    "id": "s1ctcoijx5m5"
   },
   "source": [
    "Random Forest is an ensemble of Decision Trees, trained via the bagging method (or somtimes pasting), with max_samples set to the size of training set. Instead of building a BaggingClassifier and passing it a DecisionTreeClassifier, we can use RandomForestClassifier class (or RandomForestRegressor for regression tasks), which is more convenient and optimezed for Decision Trees. The following code is to train a Random Forest classifier with 500 trees (each limited to maximum 16 nodes):"
   ]
  },
  {
   "cell_type": "code",
   "execution_count": 1,
   "metadata": {
    "id": "GhYiQIzv0Kwh"
   },
   "outputs": [],
   "source": [
    "from sklearn.datasets import make_moons\n",
    "from sklearn.model_selection import train_test_split\n",
    "\n",
    "moons = make_moons(n_samples=10000, noise=0.4)\n",
    "X_train, X_test, y_train, y_test = train_test_split(moons[0], moons[1])"
   ]
  },
  {
   "cell_type": "code",
   "execution_count": 2,
   "metadata": {
    "colab": {
     "base_uri": "https://localhost:8080/",
     "height": 75
    },
    "executionInfo": {
     "elapsed": 3393,
     "status": "ok",
     "timestamp": 1697784265469,
     "user": {
      "displayName": "điệp phạm",
      "userId": "17907400285807461038"
     },
     "user_tz": -420
    },
    "id": "_Sb_K2Pgzc54",
    "outputId": "cb3149ad-ef0c-47d1-bf58-f5b441f216af"
   },
   "outputs": [
    {
     "data": {
      "text/plain": [
       "RandomForestClassifier(max_leaf_nodes=16, n_estimators=500, n_jobs=-1)"
      ]
     },
     "execution_count": 2,
     "metadata": {},
     "output_type": "execute_result"
    }
   ],
   "source": [
    "from sklearn.ensemble import RandomForestClassifier\n",
    "\n",
    "rnd_clf = RandomForestClassifier(n_estimators = 500, max_leaf_nodes =16, n_jobs=-1)\n",
    "rnd_clf.fit(X_train,y_train)"
   ]
  },
  {
   "cell_type": "code",
   "execution_count": 3,
   "metadata": {
    "id": "aeLTCppk0-m3"
   },
   "outputs": [],
   "source": [
    "y_pred = rnd_clf.predict(X_test)"
   ]
  },
  {
   "cell_type": "markdown",
   "metadata": {
    "id": "Gcc3I1jE104h"
   },
   "source": [
    "A RandomForestClassifier has all hyperparameter of DecisionTreeClassifier (to control how trees are grown) and all hyperparameter of BaggingClassifier (to control the ensemble)"
   ]
  },
  {
   "cell_type": "markdown",
   "metadata": {
    "id": "I9HmthAt2ZyI"
   },
   "source": [
    "## Extra-Trees\n",
    "When we are growing a tree in Random Forest, at each node only a random subset of features is considered for splitting. We can make trees even more random by using random thresholds for each features rather than searching for the best possible thresholds (like regular Decision Tree do)\n",
    "A forest of such extremely random tree is called Extremely Randomized Trees (Extra-Trees for short). This technique trades higher bias for lower variance. It also makes Extra-Trees much faster to train than regular Random Forest, because finding the best possible threshold for each feature at every node is one of the most time-consuming tasks of growing a tree\n",
    "In Scikit-Learn, it has ExtraTreesClassifier class for create Extra Tree classifier, or ExtraTreesRegressor class for regression task"
   ]
  },
  {
   "cell_type": "markdown",
   "metadata": {
    "id": "4rImYuPA7AYy"
   },
   "source": [
    "To know a RandomForestClassifier will perform better or worse than an ExtraTreesClassifier, the only way is to try both and compare them using cross-validation (tuning the hyperparameter using grid search)"
   ]
  },
  {
   "cell_type": "markdown",
   "metadata": {
    "id": "lro4GaVH9txp"
   },
   "source": [
    "## Feature Importance\n",
    "\n",
    "Another great quality of Random Forests is that they make it easy to measure the relative important of each feature. Scikit-Learn measure a feature's important by looking at how much the tree nodes that use the feature reduce impurity on average (across all trees in the forest). More precisely, it is a weighted average, where each node's weight is equal to the number of training samples that are associated with it\n",
    "\n",
    "Scikit-Learn computes this score automatically for each feature after training, then it scales the results so that the sum of all importances is equal to 1. We can access the result using the feature_importances_ variable.\n",
    "\n",
    "For example, the following code trains a RandomForestClassifier on the iris dataset and outputs each feature's importance. It seems that the most important features are the petal length (44%) and width (43%), while sepal length and width are rather unimportant in comparison (11% and 2%, respectively):"
   ]
  },
  {
   "cell_type": "code",
   "execution_count": 4,
   "metadata": {
    "colab": {
     "base_uri": "https://localhost:8080/"
    },
    "executionInfo": {
     "elapsed": 2980,
     "status": "ok",
     "timestamp": 1697861980065,
     "user": {
      "displayName": "điệp phạm",
      "userId": "17907400285807461038"
     },
     "user_tz": -420
    },
    "id": "a6xKIV9o9v04",
    "outputId": "38a8d38b-e9f7-4325-e5c6-c2c1f34efdc8"
   },
   "outputs": [
    {
     "name": "stdout",
     "output_type": "stream",
     "text": [
      "sepal length (cm) 0.09295861799282873\n",
      "sepal width (cm) 0.026542895842864574\n",
      "petal length (cm) 0.44627207384095163\n",
      "petal width (cm) 0.43422641232335496\n"
     ]
    }
   ],
   "source": [
    "from sklearn.datasets import load_iris\n",
    "from sklearn.ensemble import RandomForestClassifier\n",
    "\n",
    "iris = load_iris()\n",
    "rnd_clf = RandomForestClassifier(n_estimators = 500, n_jobs=-1)\n",
    "rnd_clf.fit(iris['data'], iris['target'])\n",
    "for name, score in zip(iris['feature_names'], rnd_clf.feature_importances_):\n",
    "  print(name, score)"
   ]
  },
  {
   "cell_type": "code",
   "execution_count": null,
   "metadata": {
    "id": "obmI0R9pdTat"
   },
   "outputs": [],
   "source": []
  }
 ],
 "metadata": {
  "colab": {
   "authorship_tag": "ABX9TyMVQdeB83ej9sYJmpOPqm64",
   "provenance": []
  },
  "kernelspec": {
   "display_name": "Python 3",
   "language": "python",
   "name": "python3"
  },
  "language_info": {
   "codemirror_mode": {
    "name": "ipython",
    "version": 3
   },
   "file_extension": ".py",
   "mimetype": "text/x-python",
   "name": "python",
   "nbconvert_exporter": "python",
   "pygments_lexer": "ipython3",
   "version": "3.8.8"
  }
 },
 "nbformat": 4,
 "nbformat_minor": 1
}
