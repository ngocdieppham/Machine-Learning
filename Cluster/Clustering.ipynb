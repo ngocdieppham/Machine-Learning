{
 "cells": [
  {
   "cell_type": "markdown",
   "id": "cd9f2f58",
   "metadata": {},
   "source": [
    "# Clustering\n",
    "\n",
    "Clustering is a branch of unsupervised machine learning where the goal is to identify groups or clusters in your data set without the use of labels. Clustering should not be considered the same as classification; we are not trying make predictions on observations from a set of classes. In clustering, you are identifying a set of similar data points and calling the resulting set a cluster.\n",
    "\n",
    "Let's consider an example of clustering. You may have a data set characterizing your customers like demographic information and personal preferences. A supervised machine learning application would be to determine whether a person will buy a product. However, an unsupervised machine learning application would be to identify several groups or types of customers. With these groups identified, you can analyze the groups and build profiles describing the groups. For example, one group tends to include people from the ages 20 to 25 who like the outdoors. With these profiles, you can pass that information and analysis to the marketing team to create different advertisements to best attract each group."
   ]
  },
  {
   "cell_type": "markdown",
   "id": "1212e90b",
   "metadata": {},
   "source": [
    "# K-Means algorithm"
   ]
  },
  {
   "cell_type": "markdown",
   "id": "d5ba82f7",
   "metadata": {},
   "source": [
    "The K-Means algorithm is a simple algorithm capable of clustering this kind of dataset very quickly and efficiently, often in just a few interations"
   ]
  },
  {
   "cell_type": "markdown",
   "id": "015af6f0",
   "metadata": {},
   "source": [
    "#### make_blobs \n",
    "\n",
    "make_blobs() is a function of Scikit-Learn, can be used to generate blobs of points with a Gaussian distribution. We can control how many blobs to generate and the number of samples to generate, as well as a group of other properties"
   ]
  },
  {
   "cell_type": "markdown",
   "id": "349cd808",
   "metadata": {},
   "source": [
    "Let's train a K-Means clusterer on this dataset. It will try to find each blob's center and assign each instance to the closest blob:"
   ]
  },
  {
   "cell_type": "code",
   "execution_count": 22,
   "id": "08e55a04",
   "metadata": {},
   "outputs": [
    {
     "name": "stdout",
     "output_type": "stream",
     "text": [
      "(500, 2)\n",
      "(500,)\n"
     ]
    }
   ],
   "source": [
    "from sklearn.datasets import make_blobs\n",
    "from sklearn.cluster import KMeans\n",
    "\n",
    "X, y = make_blobs(n_samples = 500, n_features = 2, centers = 5, random_state = 0)\n",
    "print(X.shape)\n",
    "print(y.shape)"
   ]
  },
  {
   "cell_type": "code",
   "execution_count": 15,
   "id": "7e735c47",
   "metadata": {},
   "outputs": [],
   "source": [
    "from sklearn.cluster import KMeans\n",
    "\n",
    "k = 5 #the number of clusters\n",
    "kmeans = KMeans(n_clusters = k)\n",
    "y_pred = kmeans.fit_predict(X)"
   ]
  },
  {
   "cell_type": "markdown",
   "id": "62e0bf10",
   "metadata": {},
   "source": [
    "Each instance was assigned to one of the five clusters. In the context of clustering, an instance's label is the index of the cluster that this instance gets assigned to by the algorithm: this is not to be confused with the class labels in classification. \n",
    "\n",
    "The KMeans instance preserves a copy of the labels of the instances it was trained on, available via the labels_ instance variable:"
   ]
  },
  {
   "cell_type": "code",
   "execution_count": 17,
   "id": "4432fd47",
   "metadata": {},
   "outputs": [
    {
     "data": {
      "text/plain": [
       "True"
      ]
     },
     "execution_count": 17,
     "metadata": {},
     "output_type": "execute_result"
    }
   ],
   "source": [
    "y_pred is kmeans.labels_"
   ]
  },
  {
   "cell_type": "markdown",
   "id": "2da26cad",
   "metadata": {},
   "source": [
    "We can also take a look at the five centroids that the algorithm found:"
   ]
  },
  {
   "cell_type": "code",
   "execution_count": 18,
   "id": "3c5295b6",
   "metadata": {},
   "outputs": [
    {
     "data": {
      "text/plain": [
       "array([[-1.33625465,  7.73822965],\n",
       "       [ 9.30286933, -2.23802673],\n",
       "       [ 1.87544954,  0.76337636],\n",
       "       [-1.78783991,  2.76785611],\n",
       "       [ 0.87407478,  4.4332834 ]])"
      ]
     },
     "execution_count": 18,
     "metadata": {},
     "output_type": "execute_result"
    }
   ],
   "source": [
    "kmeans.cluster_centers_"
   ]
  },
  {
   "cell_type": "markdown",
   "id": "afaecca1",
   "metadata": {},
   "source": [
    "We can easily assign new instances to the cluster whose centroid is closest:"
   ]
  },
  {
   "cell_type": "code",
   "execution_count": 20,
   "id": "50c2eb7b",
   "metadata": {},
   "outputs": [
    {
     "data": {
      "text/plain": [
       "array([3, 2, 3, 3])"
      ]
     },
     "execution_count": 20,
     "metadata": {},
     "output_type": "execute_result"
    }
   ],
   "source": [
    "import numpy as np\n",
    "X_new = np.array([[0,2],[3,2],[-3,3],[-3,2.5]])\n",
    "kmeans.predict(X_new)"
   ]
  },
  {
   "cell_type": "markdown",
   "id": "04742723",
   "metadata": {},
   "source": [
    "In the KMeans class, transform() method measures the distance from each instance to every centroid:"
   ]
  },
  {
   "cell_type": "code",
   "execution_count": 21,
   "id": "8d9cc767",
   "metadata": {},
   "outputs": [
    {
     "data": {
      "text/plain": [
       "array([[ 5.89176171, 10.22273194,  2.24645254,  1.9457581 ,  2.58551249],\n",
       "       [ 7.19238374,  7.59519798,  1.67148191,  4.84902197,  3.23116483],\n",
       "       [ 5.02183919, 13.3715189 ,  5.36399977,  1.23418915,  4.13070899],\n",
       "       [ 5.49609848, 13.18368276,  5.17550673,  1.24140202,  4.32966975]])"
      ]
     },
     "execution_count": 21,
     "metadata": {},
     "output_type": "execute_result"
    }
   ],
   "source": [
    "kmeans.transform(X_new)"
   ]
  },
  {
   "cell_type": "code",
   "execution_count": null,
   "id": "6563c5ba",
   "metadata": {},
   "outputs": [],
   "source": []
  }
 ],
 "metadata": {
  "kernelspec": {
   "display_name": "Python 3",
   "language": "python",
   "name": "python3"
  },
  "language_info": {
   "codemirror_mode": {
    "name": "ipython",
    "version": 3
   },
   "file_extension": ".py",
   "mimetype": "text/x-python",
   "name": "python",
   "nbconvert_exporter": "python",
   "pygments_lexer": "ipython3",
   "version": "3.8.8"
  }
 },
 "nbformat": 4,
 "nbformat_minor": 5
}
